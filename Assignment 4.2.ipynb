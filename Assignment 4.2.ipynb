{
 "cells": [
  {
   "cell_type": "markdown",
   "metadata": {},
   "source": [
    "Question"
   ]
  },
  {
   "cell_type": "markdown",
   "metadata": {},
   "source": [
    "Find the variance for the following set of data representing trees in California (heights in\n",
    "feet):\n",
    "3, 21, 98, 203, 17, 9"
   ]
  },
  {
   "cell_type": "markdown",
   "metadata": {},
   "source": [
    "Answer"
   ]
  },
  {
   "cell_type": "code",
   "execution_count": 2,
   "metadata": {},
   "outputs": [
    {
     "name": "stdout",
     "output_type": "stream",
     "text": [
      "The variance is 6219.9.\n"
     ]
    }
   ],
   "source": [
    "def variance(x):\n",
    "    num_house = len(x)\n",
    "    mean = sum(x) / num_house\n",
    "    differences = [y - mean for y in x]\n",
    "    squared_differences = [d ** 2 for d in differences]\n",
    "    ssd = sum(squared_differences)\n",
    "    variance = ssd / (num_house - 1)\n",
    "    print('The variance is {}.'.format(variance))\n",
    "    \n",
    "trees = [3, 21, 98, 203, 17, 9]\n",
    "variance(trees)"
   ]
  }
 ],
 "metadata": {
  "kernelspec": {
   "display_name": "Python 3",
   "language": "python",
   "name": "python3"
  },
  "language_info": {
   "codemirror_mode": {
    "name": "ipython",
    "version": 3
   },
   "file_extension": ".py",
   "mimetype": "text/x-python",
   "name": "python",
   "nbconvert_exporter": "python",
   "pygments_lexer": "ipython3",
   "version": "3.6.5"
  }
 },
 "nbformat": 4,
 "nbformat_minor": 2
}
